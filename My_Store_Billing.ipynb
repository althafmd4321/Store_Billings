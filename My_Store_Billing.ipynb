{
 "cells": [
  {
   "cell_type": "code",
   "execution_count": 74,
   "id": "0bb9c34f-6873-46b4-8377-ef613148b185",
   "metadata": {},
   "outputs": [
    {
     "name": "stdout",
     "output_type": "stream",
     "text": [
      "Items:\n",
      "laptop: $500 x 1 = $500\n",
      "headphones: $100 x 2 = $200\n",
      "Subtotal : $ 700\n",
      "Discount (20.0%): -$140.0\n",
      "Promo Code (Ed53d5): -$15\n",
      "Free Delivery!\n",
      "Total: $545.0\n",
      "\n"
     ]
    }
   ],
   "source": [
    "def Store_receipt(*items, **discount_details):\n",
    "    if len(items) > 0:\n",
    "        total = 0\n",
    "        delivery_charges = 50\n",
    "        print('Items:')\n",
    "        for data in items:\n",
    "            print(f'{data[0]}: ${data[1]} x {data[2]} = ${data[1] * data[2]}')\n",
    "            total += data[1] * data[2]\n",
    "        \n",
    "        print('Subtotal : $', total)\n",
    "        \n",
    "        if \"discount_rate\" in discount_details:\n",
    "            discount_rate = discount_details[\"discount_rate\"]\n",
    "        else:\n",
    "            discount_rate = 0.1\n",
    "        \n",
    "        discount = total * discount_rate\n",
    "        print(f'Discount ({discount_rate * 100}%): -${discount}')\n",
    "        \n",
    "        if \"promo_code\" in discount_details:\n",
    "            promo_code = discount_details[\"promo_code\"]\n",
    "        else:\n",
    "            promo_code = 10\n",
    "        \n",
    "        print(f'Promo Code (Ed53d5): -${promo_code}')\n",
    "        \n",
    "        if total > 500:\n",
    "            delivery_charges = 0\n",
    "            print(f'Free Delivery!')\n",
    "        else:\n",
    "            print(f'Shop for ${500 - ((total - discount) - promo_code)} more to get free delivery')\n",
    "            \n",
    "        final_total = ((total - discount) - promo_code) + delivery_charges\n",
    "        print(f'Total: ${final_total}')\n",
    "    else:\n",
    "        print(f'Your cart is empty. Shop to grab huge discount today!')\n",
    "    print()\n",
    "Store_receipt(\n",
    "    (\"laptop\", 500, 1),\n",
    "    (\"headphones\", 100, 2),\n",
    "    discount_rate=0.2,\n",
    "    promo_code=15\n",
    ")\n",
    "\n",
    "\n",
    "\n",
    "\n"
   ]
  },
  {
   "cell_type": "code",
   "execution_count": 76,
   "id": "7a270c5d-afa4-440e-a476-e62c642e2689",
   "metadata": {},
   "outputs": [
    {
     "name": "stdout",
     "output_type": "stream",
     "text": [
      "Items:\n",
      "mouse: $30 x 3 = $90\n",
      "Subtotal : $ 90\n",
      "Discount (15.0%): -$13.5\n",
      "Promo Code (Ed53d5): -$20\n",
      "Shop for $443.5 more to get free delivery\n",
      "Total: $106.5\n",
      "\n"
     ]
    }
   ],
   "source": [
    "Store_receipt(\n",
    "    (\"mouse\", 30, 3),\n",
    "    discount_rate=0.15,\n",
    "    promo_code=20\n",
    ")"
   ]
  },
  {
   "cell_type": "code",
   "execution_count": 78,
   "id": "d33322d2-aeab-443f-9991-7d8d3ebe0472",
   "metadata": {},
   "outputs": [
    {
     "name": "stdout",
     "output_type": "stream",
     "text": [
      "Items:\n",
      "tablet: $300 x 1 = $300\n",
      "charger: $20 x 1 = $20\n",
      "Subtotal : $ 320\n",
      "Discount (10.0%): -$32.0\n",
      "Promo Code (Ed53d5): -$10\n",
      "Shop for $222.0 more to get free delivery\n",
      "Total: $328.0\n",
      "\n"
     ]
    }
   ],
   "source": [
    "Store_receipt(\n",
    "    (\"tablet\", 300, 1),\n",
    "    (\"charger\", 20, 1)\n",
    ")\n"
   ]
  },
  {
   "cell_type": "code",
   "execution_count": null,
   "id": "636d6dd6-de51-453b-b64c-ba7843ac5749",
   "metadata": {},
   "outputs": [],
   "source": []
  }
 ],
 "metadata": {
  "kernelspec": {
   "display_name": "Python 3 (ipykernel)",
   "language": "python",
   "name": "python3"
  },
  "language_info": {
   "codemirror_mode": {
    "name": "ipython",
    "version": 3
   },
   "file_extension": ".py",
   "mimetype": "text/x-python",
   "name": "python",
   "nbconvert_exporter": "python",
   "pygments_lexer": "ipython3",
   "version": "3.12.4"
  }
 },
 "nbformat": 4,
 "nbformat_minor": 5
}
